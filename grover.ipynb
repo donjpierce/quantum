{
 "cells": [
  {
   "cell_type": "code",
   "execution_count": 4,
   "metadata": {},
   "outputs": [],
   "source": [
    "import numpy as np\n",
    "from pyquil import Program, get_qc\n",
    "from pyquil.gates import H\n",
    "from pyquil.quil import DefGate\n",
    "from pyquil.api import WavefunctionSimulator"
   ]
  },
  {
   "cell_type": "markdown",
   "metadata": {},
   "source": [
    "Let's work with three qubits:"
   ]
  },
  {
   "cell_type": "code",
   "execution_count": 5,
   "metadata": {},
   "outputs": [],
   "source": [
    "qv = get_qc('3q-qvm')"
   ]
  },
  {
   "cell_type": "markdown",
   "metadata": {},
   "source": [
    "Now let's drive an equal superposition of all possible states, using the Hadamard gate. Then let's peer into what the resultant wavefunction looks like."
   ]
  },
  {
   "cell_type": "code",
   "execution_count": 6,
   "metadata": {},
   "outputs": [
    {
     "name": "stdout",
     "output_type": "stream",
     "text": [
      "(0.3535533906+0j)|000> + (0.3535533906+0j)|001> + (0.3535533906+0j)|010> + (0.3535533906+0j)|011> + (0.3535533906+0j)|100> + (0.3535533906+0j)|101> + (0.3535533906+0j)|110> + (0.3535533906+0j)|111>\n"
     ]
    }
   ],
   "source": [
    "p = Program(H(0), H(1), H(2))\n",
    "wfn = WavefunctionSimulator().wavefunction(p)\n",
    "print(wfn)"
   ]
  },
  {
   "cell_type": "markdown",
   "metadata": {},
   "source": [
    "Remember that since we are using 3 qubits, we expect $2^3 = 8$ possible states, with a relative normalization $\\frac{1}{\\sqrt{2^3}} = 0.3535533906$. So this state looks exactly as we expect. Now let's define our oracle. For this oracle, I'm going to choose state number 6 to be of interest. Remember that our matrix must be $8x8$ since we are working with three qubits ($16x16$ if we were working with four qubits, etc.)."
   ]
  },
  {
   "cell_type": "code",
   "execution_count": 7,
   "metadata": {},
   "outputs": [],
   "source": [
    "oracle = np.array([\n",
    "    [1, 0, 0, 0, 0, 0, 0, 0],                                                                                \n",
    "    [0, 1, 0, 0, 0, 0, 0, 0],                                                                                \n",
    "    [0, 0, 1, 0, 0, 0, 0, 0],                                                                                \n",
    "    [0, 0, 0, 1, 0, 0, 0, 0],                                                                                \n",
    "    [0, 0, 0, 0, 1, 0, 0, 0],                                                                                \n",
    "    [0, 0, 0, 0, 0,-1, 0, 0],                                                                                \n",
    "    [0, 0, 0, 0, 0, 0, 1, 0],                                                                                \n",
    "    [0, 0, 0, 0, 0, 0, 0, 1]\n",
    "])\n",
    "oracle_definition = DefGate(\"oracle\", oracle)\n",
    "ORACLE = oracle_definition.get_constructor()"
   ]
  },
  {
   "cell_type": "markdown",
   "metadata": {},
   "source": [
    "Now let's add our oracle operator into our program, along with its definition so that pyquil knows how to use it. We want oracle to act on all three qubits, so it's pyquil instruction will be $\\textsf{ORACLE(0, 1, 2)}$"
   ]
  },
  {
   "cell_type": "code",
   "execution_count": 8,
   "metadata": {},
   "outputs": [
    {
     "name": "stdout",
     "output_type": "stream",
     "text": [
      "DEFGATE oracle:\n",
      "    1, 0, 0, 0, 0, 0, 0, 0\n",
      "    0, 1, 0, 0, 0, 0, 0, 0\n",
      "    0, 0, 1, 0, 0, 0, 0, 0\n",
      "    0, 0, 0, 1, 0, 0, 0, 0\n",
      "    0, 0, 0, 0, 1, 0, 0, 0\n",
      "    0, 0, 0, 0, 0, -1, 0, 0\n",
      "    0, 0, 0, 0, 0, 0, 1, 0\n",
      "    0, 0, 0, 0, 0, 0, 0, 1\n",
      "\n",
      "H 0\n",
      "H 1\n",
      "H 2\n",
      "oracle 0 1 2\n",
      "\n"
     ]
    }
   ],
   "source": [
    "p += oracle_definition\n",
    "p += ORACLE(0, 1, 2)\n",
    "print(p)"
   ]
  },
  {
   "cell_type": "markdown",
   "metadata": {},
   "source": [
    "Next we need to construct the Grover diffusion operator. This operator is $D = H \\times (-I) \\times H$, where $(-I)$ is an inversion about zero. I'm going to use the already-multiplied form, which can be found explicitly here:  htps://people.eecs.berkeley.edu/~vazirani/f04quantum/notes/lec10/lec11.pdf Let's define the Grover diffusion operator for our state (with $N = 2^n = 8$), and then add it to our program."
   ]
  },
  {
   "cell_type": "code",
   "execution_count": 9,
   "metadata": {},
   "outputs": [
    {
     "name": "stdout",
     "output_type": "stream",
     "text": [
      "DEFGATE oracle:\n",
      "    1, 0, 0, 0, 0, 0, 0, 0\n",
      "    0, 1, 0, 0, 0, 0, 0, 0\n",
      "    0, 0, 1, 0, 0, 0, 0, 0\n",
      "    0, 0, 0, 1, 0, 0, 0, 0\n",
      "    0, 0, 0, 0, 1, 0, 0, 0\n",
      "    0, 0, 0, 0, 0, -1, 0, 0\n",
      "    0, 0, 0, 0, 0, 0, 1, 0\n",
      "    0, 0, 0, 0, 0, 0, 0, 1\n",
      "\n",
      "DEFGATE grover-diffusion:\n",
      "    -0.75, 0.25, 0.25, 0.25, 0.25, 0.25, 0.25, 0.25\n",
      "    0.25, -0.75, 0.25, 0.25, 0.25, 0.25, 0.25, 0.25\n",
      "    0.25, 0.25, -0.75, 0.25, 0.25, 0.25, 0.25, 0.25\n",
      "    0.25, 0.25, 0.25, -0.75, 0.25, 0.25, 0.25, 0.25\n",
      "    0.25, 0.25, 0.25, 0.25, -0.75, 0.25, 0.25, 0.25\n",
      "    0.25, 0.25, 0.25, 0.25, 0.25, -0.75, 0.25, 0.25\n",
      "    0.25, 0.25, 0.25, 0.25, 0.25, 0.25, -0.75, 0.25\n",
      "    0.25, 0.25, 0.25, 0.25, 0.25, 0.25, 0.25, -0.75\n",
      "\n",
      "H 0\n",
      "H 1\n",
      "H 2\n",
      "oracle 0 1 2\n",
      "grover-diffusion 0 1 2\n",
      "\n"
     ]
    }
   ],
   "source": [
    "diffusion = np.array([\n",
    "    [1/4-1, 1/4, 1/4, 1/4, 1/4, 1/4, 1/4, 1/4],                                                             \n",
    "    [1/4, 1/4-1, 1/4, 1/4, 1/4, 1/4, 1/4, 1/4],                                                             \n",
    "    [1/4, 1/4, 1/4-1, 1/4, 1/4, 1/4, 1/4, 1/4],                                                             \n",
    "    [1/4, 1/4, 1/4, 1/4-1, 1/4, 1/4, 1/4, 1/4],                     \n",
    "    [1/4, 1/4, 1/4, 1/4, 1/4-1, 1/4, 1/4, 1/4],              \n",
    "    [1/4, 1/4, 1/4, 1/4, 1/4, 1/4-1, 1/4, 1/4],     \n",
    "    [1/4, 1/4, 1/4, 1/4, 1/4, 1/4, 1/4-1, 1/4],                                                             \n",
    "    [1/4, 1/4, 1/4, 1/4, 1/4, 1/4, 1/4, 1/4-1]  \n",
    "])\n",
    "diffusion_definition = DefGate(\"grover-diffusion\", diffusion)\n",
    "DIFFUSE = diffusion_definition.get_constructor()\n",
    "p += diffusion_definition\n",
    "p += DIFFUSE(0, 1, 2)\n",
    "print(p)"
   ]
  },
  {
   "cell_type": "markdown",
   "metadata": {},
   "source": [
    "Now, let's think about what we should expect of the wavefunction resulting from this program. We should expect that the program initializes an even superposition state of three qubits (therefore 8 states superimposed), that the oracle inverts the phase of one of the states by $180^\\circ$ (in this case the sixth state), and that the entire state is inverted in a special way so that the inversion constructively interferes with the state the oracle selected but destructively interfered with the states the oracle did not select. So what should the output look like? Take a look:"
   ]
  },
  {
   "cell_type": "code",
   "execution_count": 10,
   "metadata": {},
   "outputs": [
    {
     "name": "stdout",
     "output_type": "stream",
     "text": [
      "(0.1767766953+0j)|000> + (0.1767766953+0j)|001> + (0.1767766953+0j)|010> + (0.1767766953+0j)|011> + (0.1767766953+0j)|100> + (0.8838834765+0j)|101> + (0.1767766953+0j)|110> + (0.1767766953+0j)|111>\n"
     ]
    }
   ],
   "source": [
    "wfn = WavefunctionSimulator().wavefunction(p)\n",
    "print(wfn)"
   ]
  },
  {
   "cell_type": "markdown",
   "metadata": {},
   "source": [
    "Successfully, our program increased the amplitude of the oracle's state and decreased the amplitudes of the other states. Therefore when this wavefunction is measured, the qubits will have a higher probability of being in the configuration $|101>$ than being in any other configuration. The more we iterate over Grover's algorithm, the higher the oracle state's amplitude will be. "
   ]
  }
 ],
 "metadata": {
  "kernelspec": {
   "display_name": "Python [conda env:quantum]",
   "language": "python",
   "name": "conda-env-quantum-py"
  },
  "language_info": {
   "codemirror_mode": {
    "name": "ipython",
    "version": 3
   },
   "file_extension": ".py",
   "mimetype": "text/x-python",
   "name": "python",
   "nbconvert_exporter": "python",
   "pygments_lexer": "ipython3",
   "version": "3.7.1"
  }
 },
 "nbformat": 4,
 "nbformat_minor": 2
}
